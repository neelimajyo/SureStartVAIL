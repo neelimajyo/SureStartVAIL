{
  "nbformat": 4,
  "nbformat_minor": 0,
  "metadata": {
    "colab": {
      "name": "Loss Functions",
      "provenance": []
    },
    "kernelspec": {
      "name": "python3",
      "display_name": "Python 3"
    }
  },
  "cells": [
    {
      "cell_type": "code",
      "metadata": {
        "id": "KjyyEaJW8auy"
      },
      "source": [
        "import pandas as pd\n",
        "\n",
        "from sklearn import preprocessing\n",
        "from sklearn.model_selection import train_test_split\n",
        "from keras.models import Sequential\n",
        "from keras.layers import Dense\n",
        "import matplotlib.pyplot as plt\n",
        "from keras.layers import Dropout\n",
        "from keras import regularizers"
      ],
      "execution_count": 41,
      "outputs": []
    },
    {
      "cell_type": "code",
      "metadata": {
        "id": "HOfuvMmG8ihk",
        "colab": {
          "resources": {
            "http://localhost:8080/nbextensions/google.colab/files.js": {
              "data": "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",
              "ok": true,
              "headers": [
                [
                  "content-type",
                  "application/javascript"
                ]
              ],
              "status": 200,
              "status_text": ""
            }
          },
          "base_uri": "https://localhost:8080/",
          "height": 72
        },
        "outputId": "c43345b8-e3df-4ad2-f8c5-bd5cc3df28a4"
      },
      "source": [
        "from google.colab import files\n",
        "uploaded = files.upload()"
      ],
      "execution_count": 12,
      "outputs": [
        {
          "output_type": "display_data",
          "data": {
            "text/html": [
              "\n",
              "     <input type=\"file\" id=\"files-14bb5fcc-7e63-4e71-9204-ae928474e94b\" name=\"files[]\" multiple disabled\n",
              "        style=\"border:none\" />\n",
              "     <output id=\"result-14bb5fcc-7e63-4e71-9204-ae928474e94b\">\n",
              "      Upload widget is only available when the cell has been executed in the\n",
              "      current browser session. Please rerun this cell to enable.\n",
              "      </output>\n",
              "      <script src=\"/nbextensions/google.colab/files.js\"></script> "
            ],
            "text/plain": [
              "<IPython.core.display.HTML object>"
            ]
          },
          "metadata": {
            "tags": []
          }
        },
        {
          "output_type": "stream",
          "text": [
            "Saving housepricedata.csv to housepricedata.csv\n"
          ],
          "name": "stdout"
        }
      ]
    },
    {
      "cell_type": "code",
      "metadata": {
        "id": "QDZ2nxqm8kwS"
      },
      "source": [
        "df = pd.read_csv('housepricedata.csv')"
      ],
      "execution_count": 14,
      "outputs": []
    },
    {
      "cell_type": "code",
      "metadata": {
        "id": "QLc0ZwUy_Sbt",
        "colab": {
          "base_uri": "https://localhost:8080/",
          "height": 419
        },
        "outputId": "39dcb065-245e-4a1d-eb92-c47c5a25d9e2"
      },
      "source": [
        "df"
      ],
      "execution_count": 15,
      "outputs": [
        {
          "output_type": "execute_result",
          "data": {
            "text/html": [
              "<div>\n",
              "<style scoped>\n",
              "    .dataframe tbody tr th:only-of-type {\n",
              "        vertical-align: middle;\n",
              "    }\n",
              "\n",
              "    .dataframe tbody tr th {\n",
              "        vertical-align: top;\n",
              "    }\n",
              "\n",
              "    .dataframe thead th {\n",
              "        text-align: right;\n",
              "    }\n",
              "</style>\n",
              "<table border=\"1\" class=\"dataframe\">\n",
              "  <thead>\n",
              "    <tr style=\"text-align: right;\">\n",
              "      <th></th>\n",
              "      <th>LotArea</th>\n",
              "      <th>OverallQual</th>\n",
              "      <th>OverallCond</th>\n",
              "      <th>TotalBsmtSF</th>\n",
              "      <th>FullBath</th>\n",
              "      <th>HalfBath</th>\n",
              "      <th>BedroomAbvGr</th>\n",
              "      <th>TotRmsAbvGrd</th>\n",
              "      <th>Fireplaces</th>\n",
              "      <th>GarageArea</th>\n",
              "      <th>AboveMedianPrice</th>\n",
              "    </tr>\n",
              "  </thead>\n",
              "  <tbody>\n",
              "    <tr>\n",
              "      <th>0</th>\n",
              "      <td>8450</td>\n",
              "      <td>7</td>\n",
              "      <td>5</td>\n",
              "      <td>856</td>\n",
              "      <td>2</td>\n",
              "      <td>1</td>\n",
              "      <td>3</td>\n",
              "      <td>8</td>\n",
              "      <td>0</td>\n",
              "      <td>548</td>\n",
              "      <td>1</td>\n",
              "    </tr>\n",
              "    <tr>\n",
              "      <th>1</th>\n",
              "      <td>9600</td>\n",
              "      <td>6</td>\n",
              "      <td>8</td>\n",
              "      <td>1262</td>\n",
              "      <td>2</td>\n",
              "      <td>0</td>\n",
              "      <td>3</td>\n",
              "      <td>6</td>\n",
              "      <td>1</td>\n",
              "      <td>460</td>\n",
              "      <td>1</td>\n",
              "    </tr>\n",
              "    <tr>\n",
              "      <th>2</th>\n",
              "      <td>11250</td>\n",
              "      <td>7</td>\n",
              "      <td>5</td>\n",
              "      <td>920</td>\n",
              "      <td>2</td>\n",
              "      <td>1</td>\n",
              "      <td>3</td>\n",
              "      <td>6</td>\n",
              "      <td>1</td>\n",
              "      <td>608</td>\n",
              "      <td>1</td>\n",
              "    </tr>\n",
              "    <tr>\n",
              "      <th>3</th>\n",
              "      <td>9550</td>\n",
              "      <td>7</td>\n",
              "      <td>5</td>\n",
              "      <td>756</td>\n",
              "      <td>1</td>\n",
              "      <td>0</td>\n",
              "      <td>3</td>\n",
              "      <td>7</td>\n",
              "      <td>1</td>\n",
              "      <td>642</td>\n",
              "      <td>0</td>\n",
              "    </tr>\n",
              "    <tr>\n",
              "      <th>4</th>\n",
              "      <td>14260</td>\n",
              "      <td>8</td>\n",
              "      <td>5</td>\n",
              "      <td>1145</td>\n",
              "      <td>2</td>\n",
              "      <td>1</td>\n",
              "      <td>4</td>\n",
              "      <td>9</td>\n",
              "      <td>1</td>\n",
              "      <td>836</td>\n",
              "      <td>1</td>\n",
              "    </tr>\n",
              "    <tr>\n",
              "      <th>...</th>\n",
              "      <td>...</td>\n",
              "      <td>...</td>\n",
              "      <td>...</td>\n",
              "      <td>...</td>\n",
              "      <td>...</td>\n",
              "      <td>...</td>\n",
              "      <td>...</td>\n",
              "      <td>...</td>\n",
              "      <td>...</td>\n",
              "      <td>...</td>\n",
              "      <td>...</td>\n",
              "    </tr>\n",
              "    <tr>\n",
              "      <th>1455</th>\n",
              "      <td>7917</td>\n",
              "      <td>6</td>\n",
              "      <td>5</td>\n",
              "      <td>953</td>\n",
              "      <td>2</td>\n",
              "      <td>1</td>\n",
              "      <td>3</td>\n",
              "      <td>7</td>\n",
              "      <td>1</td>\n",
              "      <td>460</td>\n",
              "      <td>1</td>\n",
              "    </tr>\n",
              "    <tr>\n",
              "      <th>1456</th>\n",
              "      <td>13175</td>\n",
              "      <td>6</td>\n",
              "      <td>6</td>\n",
              "      <td>1542</td>\n",
              "      <td>2</td>\n",
              "      <td>0</td>\n",
              "      <td>3</td>\n",
              "      <td>7</td>\n",
              "      <td>2</td>\n",
              "      <td>500</td>\n",
              "      <td>1</td>\n",
              "    </tr>\n",
              "    <tr>\n",
              "      <th>1457</th>\n",
              "      <td>9042</td>\n",
              "      <td>7</td>\n",
              "      <td>9</td>\n",
              "      <td>1152</td>\n",
              "      <td>2</td>\n",
              "      <td>0</td>\n",
              "      <td>4</td>\n",
              "      <td>9</td>\n",
              "      <td>2</td>\n",
              "      <td>252</td>\n",
              "      <td>1</td>\n",
              "    </tr>\n",
              "    <tr>\n",
              "      <th>1458</th>\n",
              "      <td>9717</td>\n",
              "      <td>5</td>\n",
              "      <td>6</td>\n",
              "      <td>1078</td>\n",
              "      <td>1</td>\n",
              "      <td>0</td>\n",
              "      <td>2</td>\n",
              "      <td>5</td>\n",
              "      <td>0</td>\n",
              "      <td>240</td>\n",
              "      <td>0</td>\n",
              "    </tr>\n",
              "    <tr>\n",
              "      <th>1459</th>\n",
              "      <td>9937</td>\n",
              "      <td>5</td>\n",
              "      <td>6</td>\n",
              "      <td>1256</td>\n",
              "      <td>1</td>\n",
              "      <td>1</td>\n",
              "      <td>3</td>\n",
              "      <td>6</td>\n",
              "      <td>0</td>\n",
              "      <td>276</td>\n",
              "      <td>0</td>\n",
              "    </tr>\n",
              "  </tbody>\n",
              "</table>\n",
              "<p>1460 rows × 11 columns</p>\n",
              "</div>"
            ],
            "text/plain": [
              "      LotArea  OverallQual  ...  GarageArea  AboveMedianPrice\n",
              "0        8450            7  ...         548                 1\n",
              "1        9600            6  ...         460                 1\n",
              "2       11250            7  ...         608                 1\n",
              "3        9550            7  ...         642                 0\n",
              "4       14260            8  ...         836                 1\n",
              "...       ...          ...  ...         ...               ...\n",
              "1455     7917            6  ...         460                 1\n",
              "1456    13175            6  ...         500                 1\n",
              "1457     9042            7  ...         252                 1\n",
              "1458     9717            5  ...         240                 0\n",
              "1459     9937            5  ...         276                 0\n",
              "\n",
              "[1460 rows x 11 columns]"
            ]
          },
          "metadata": {
            "tags": []
          },
          "execution_count": 15
        }
      ]
    },
    {
      "cell_type": "code",
      "metadata": {
        "id": "oRb5bbzuAoZ8"
      },
      "source": [
        "dataset = df.values"
      ],
      "execution_count": 16,
      "outputs": []
    },
    {
      "cell_type": "code",
      "metadata": {
        "colab": {
          "base_uri": "https://localhost:8080/"
        },
        "id": "MjnQfesVArtJ",
        "outputId": "a59f3b50-c102-4499-fc89-b0155ef52a28"
      },
      "source": [
        "dataset"
      ],
      "execution_count": 17,
      "outputs": [
        {
          "output_type": "execute_result",
          "data": {
            "text/plain": [
              "array([[ 8450,     7,     5, ...,     0,   548,     1],\n",
              "       [ 9600,     6,     8, ...,     1,   460,     1],\n",
              "       [11250,     7,     5, ...,     1,   608,     1],\n",
              "       ...,\n",
              "       [ 9042,     7,     9, ...,     2,   252,     1],\n",
              "       [ 9717,     5,     6, ...,     0,   240,     0],\n",
              "       [ 9937,     5,     6, ...,     0,   276,     0]])"
            ]
          },
          "metadata": {
            "tags": []
          },
          "execution_count": 17
        }
      ]
    },
    {
      "cell_type": "code",
      "metadata": {
        "id": "qaugV-ncAssq"
      },
      "source": [
        "X = dataset[:,0:10]\n",
        "Y = dataset[:,10]"
      ],
      "execution_count": 18,
      "outputs": []
    },
    {
      "cell_type": "code",
      "metadata": {
        "id": "JTa1Cj2VAu1L"
      },
      "source": [
        "\n",
        "min_max_scaler = preprocessing.MinMaxScaler()\n",
        "X_scale = min_max_scaler.fit_transform(X)"
      ],
      "execution_count": 20,
      "outputs": []
    },
    {
      "cell_type": "code",
      "metadata": {
        "colab": {
          "base_uri": "https://localhost:8080/"
        },
        "id": "bW-Ab0wbBDa0",
        "outputId": "d753fbe9-a884-41bb-bd81-a0a5c869323c"
      },
      "source": [
        "X_scale"
      ],
      "execution_count": 21,
      "outputs": [
        {
          "output_type": "execute_result",
          "data": {
            "text/plain": [
              "array([[0.0334198 , 0.66666667, 0.5       , ..., 0.5       , 0.        ,\n",
              "        0.3864598 ],\n",
              "       [0.03879502, 0.55555556, 0.875     , ..., 0.33333333, 0.33333333,\n",
              "        0.32440056],\n",
              "       [0.04650728, 0.66666667, 0.5       , ..., 0.33333333, 0.33333333,\n",
              "        0.42877292],\n",
              "       ...,\n",
              "       [0.03618687, 0.66666667, 1.        , ..., 0.58333333, 0.66666667,\n",
              "        0.17771509],\n",
              "       [0.03934189, 0.44444444, 0.625     , ..., 0.25      , 0.        ,\n",
              "        0.16925247],\n",
              "       [0.04037019, 0.44444444, 0.625     , ..., 0.33333333, 0.        ,\n",
              "        0.19464034]])"
            ]
          },
          "metadata": {
            "tags": []
          },
          "execution_count": 21
        }
      ]
    },
    {
      "cell_type": "code",
      "metadata": {
        "id": "Rz0F9O23BFGd"
      },
      "source": [
        "X_train, X_val_and_test, Y_train, Y_val_and_test = train_test_split(X_scale, Y, test_size=0.3)"
      ],
      "execution_count": 23,
      "outputs": []
    },
    {
      "cell_type": "code",
      "metadata": {
        "id": "qOttUk5uCFdB"
      },
      "source": [
        "X_val, X_test, Y_val, Y_test = train_test_split(X_val_and_test, Y_val_and_test, test_size=0.5)"
      ],
      "execution_count": 24,
      "outputs": []
    },
    {
      "cell_type": "code",
      "metadata": {
        "colab": {
          "base_uri": "https://localhost:8080/"
        },
        "id": "qL3KuOKMCIDD",
        "outputId": "93ca5271-a034-4c62-e161-7c4013651e67"
      },
      "source": [
        "\n",
        "print(X_train.shape, X_val.shape, X_test.shape, Y_train.shape, Y_val.shape, Y_test.shape)"
      ],
      "execution_count": 25,
      "outputs": [
        {
          "output_type": "stream",
          "text": [
            "(1022, 10) (219, 10) (219, 10) (1022,) (219,) (219,)\n"
          ],
          "name": "stdout"
        }
      ]
    },
    {
      "cell_type": "code",
      "metadata": {
        "id": "LEY048L5CRqi"
      },
      "source": [
        "model = Sequential([\n",
        "    Dense(32, activation='relu', input_shape=(10,)),\n",
        "    Dense(32, activation='relu'),\n",
        "    Dense(32,activation='relu'),\n",
        "    Dense(1, activation='sigmoid'),\n",
        "])"
      ],
      "execution_count": 28,
      "outputs": []
    },
    {
      "cell_type": "code",
      "metadata": {
        "id": "835ehnjcChdM"
      },
      "source": [
        "model.compile(optimizer='sgd',\n",
        "              loss='binary_crossentropy',\n",
        "              metrics=['accuracy'])"
      ],
      "execution_count": 29,
      "outputs": []
    },
    {
      "cell_type": "code",
      "metadata": {
        "colab": {
          "base_uri": "https://localhost:8080/"
        },
        "id": "Jl1VWwa9CyLi",
        "outputId": "b6f73f1a-b3ec-44e8-80a8-2c56b6ef9f1d"
      },
      "source": [
        "hist = model.fit(X_train, Y_train,\n",
        "          batch_size=32, epochs=100,\n",
        "          validation_data=(X_val, Y_val))"
      ],
      "execution_count": 36,
      "outputs": [
        {
          "output_type": "stream",
          "text": [
            "Epoch 1/100\n",
            "32/32 [==============================] - 0s 4ms/step - loss: 0.2567 - accuracy: 0.9031 - val_loss: 0.2077 - val_accuracy: 0.9178\n",
            "Epoch 2/100\n",
            "32/32 [==============================] - 0s 2ms/step - loss: 0.2586 - accuracy: 0.8894 - val_loss: 0.1918 - val_accuracy: 0.9178\n",
            "Epoch 3/100\n",
            "32/32 [==============================] - 0s 2ms/step - loss: 0.2578 - accuracy: 0.8992 - val_loss: 0.1912 - val_accuracy: 0.9178\n",
            "Epoch 4/100\n",
            "32/32 [==============================] - 0s 2ms/step - loss: 0.2570 - accuracy: 0.9012 - val_loss: 0.1919 - val_accuracy: 0.9224\n",
            "Epoch 5/100\n",
            "32/32 [==============================] - 0s 2ms/step - loss: 0.2545 - accuracy: 0.8953 - val_loss: 0.1910 - val_accuracy: 0.9178\n",
            "Epoch 6/100\n",
            "32/32 [==============================] - 0s 2ms/step - loss: 0.2555 - accuracy: 0.8904 - val_loss: 0.1915 - val_accuracy: 0.9224\n",
            "Epoch 7/100\n",
            "32/32 [==============================] - 0s 2ms/step - loss: 0.2553 - accuracy: 0.8992 - val_loss: 0.2051 - val_accuracy: 0.9178\n",
            "Epoch 8/100\n",
            "32/32 [==============================] - 0s 2ms/step - loss: 0.2528 - accuracy: 0.9022 - val_loss: 0.1899 - val_accuracy: 0.9224\n",
            "Epoch 9/100\n",
            "32/32 [==============================] - 0s 2ms/step - loss: 0.2581 - accuracy: 0.9012 - val_loss: 0.1965 - val_accuracy: 0.9224\n",
            "Epoch 10/100\n",
            "32/32 [==============================] - 0s 2ms/step - loss: 0.2544 - accuracy: 0.8982 - val_loss: 0.1914 - val_accuracy: 0.9224\n",
            "Epoch 11/100\n",
            "32/32 [==============================] - 0s 2ms/step - loss: 0.2553 - accuracy: 0.9012 - val_loss: 0.1946 - val_accuracy: 0.9224\n",
            "Epoch 12/100\n",
            "32/32 [==============================] - 0s 2ms/step - loss: 0.2551 - accuracy: 0.8982 - val_loss: 0.1967 - val_accuracy: 0.9224\n",
            "Epoch 13/100\n",
            "32/32 [==============================] - 0s 2ms/step - loss: 0.2568 - accuracy: 0.8982 - val_loss: 0.1912 - val_accuracy: 0.9178\n",
            "Epoch 14/100\n",
            "32/32 [==============================] - 0s 2ms/step - loss: 0.2545 - accuracy: 0.8992 - val_loss: 0.2000 - val_accuracy: 0.9224\n",
            "Epoch 15/100\n",
            "32/32 [==============================] - 0s 2ms/step - loss: 0.2535 - accuracy: 0.9041 - val_loss: 0.2156 - val_accuracy: 0.9087\n",
            "Epoch 16/100\n",
            "32/32 [==============================] - 0s 3ms/step - loss: 0.2517 - accuracy: 0.8933 - val_loss: 0.2001 - val_accuracy: 0.9224\n",
            "Epoch 17/100\n",
            "32/32 [==============================] - 0s 2ms/step - loss: 0.2541 - accuracy: 0.8924 - val_loss: 0.1909 - val_accuracy: 0.9178\n",
            "Epoch 18/100\n",
            "32/32 [==============================] - 0s 2ms/step - loss: 0.2530 - accuracy: 0.9012 - val_loss: 0.2007 - val_accuracy: 0.9224\n",
            "Epoch 19/100\n",
            "32/32 [==============================] - 0s 2ms/step - loss: 0.2527 - accuracy: 0.9002 - val_loss: 0.1896 - val_accuracy: 0.9269\n",
            "Epoch 20/100\n",
            "32/32 [==============================] - 0s 2ms/step - loss: 0.2530 - accuracy: 0.8982 - val_loss: 0.1991 - val_accuracy: 0.9224\n",
            "Epoch 21/100\n",
            "32/32 [==============================] - 0s 2ms/step - loss: 0.2530 - accuracy: 0.8963 - val_loss: 0.1960 - val_accuracy: 0.9178\n",
            "Epoch 22/100\n",
            "32/32 [==============================] - 0s 2ms/step - loss: 0.2499 - accuracy: 0.8982 - val_loss: 0.1881 - val_accuracy: 0.9224\n",
            "Epoch 23/100\n",
            "32/32 [==============================] - 0s 2ms/step - loss: 0.2514 - accuracy: 0.8963 - val_loss: 0.1954 - val_accuracy: 0.9178\n",
            "Epoch 24/100\n",
            "32/32 [==============================] - 0s 2ms/step - loss: 0.2529 - accuracy: 0.8943 - val_loss: 0.1895 - val_accuracy: 0.9224\n",
            "Epoch 25/100\n",
            "32/32 [==============================] - 0s 2ms/step - loss: 0.2506 - accuracy: 0.8953 - val_loss: 0.2038 - val_accuracy: 0.9132\n",
            "Epoch 26/100\n",
            "32/32 [==============================] - 0s 2ms/step - loss: 0.2485 - accuracy: 0.8943 - val_loss: 0.1911 - val_accuracy: 0.9178\n",
            "Epoch 27/100\n",
            "32/32 [==============================] - 0s 2ms/step - loss: 0.2517 - accuracy: 0.8992 - val_loss: 0.1894 - val_accuracy: 0.9224\n",
            "Epoch 28/100\n",
            "32/32 [==============================] - 0s 3ms/step - loss: 0.2529 - accuracy: 0.9012 - val_loss: 0.1876 - val_accuracy: 0.9178\n",
            "Epoch 29/100\n",
            "32/32 [==============================] - 0s 3ms/step - loss: 0.2522 - accuracy: 0.9031 - val_loss: 0.2059 - val_accuracy: 0.9087\n",
            "Epoch 30/100\n",
            "32/32 [==============================] - 0s 2ms/step - loss: 0.2500 - accuracy: 0.8973 - val_loss: 0.1995 - val_accuracy: 0.9224\n",
            "Epoch 31/100\n",
            "32/32 [==============================] - 0s 2ms/step - loss: 0.2516 - accuracy: 0.8953 - val_loss: 0.2018 - val_accuracy: 0.9132\n",
            "Epoch 32/100\n",
            "32/32 [==============================] - 0s 3ms/step - loss: 0.2511 - accuracy: 0.8982 - val_loss: 0.1873 - val_accuracy: 0.9224\n",
            "Epoch 33/100\n",
            "32/32 [==============================] - 0s 2ms/step - loss: 0.2506 - accuracy: 0.8933 - val_loss: 0.2041 - val_accuracy: 0.9087\n",
            "Epoch 34/100\n",
            "32/32 [==============================] - 0s 2ms/step - loss: 0.2507 - accuracy: 0.9012 - val_loss: 0.1878 - val_accuracy: 0.9224\n",
            "Epoch 35/100\n",
            "32/32 [==============================] - 0s 2ms/step - loss: 0.2491 - accuracy: 0.8982 - val_loss: 0.1882 - val_accuracy: 0.9224\n",
            "Epoch 36/100\n",
            "32/32 [==============================] - 0s 2ms/step - loss: 0.2493 - accuracy: 0.8933 - val_loss: 0.1949 - val_accuracy: 0.9178\n",
            "Epoch 37/100\n",
            "32/32 [==============================] - 0s 2ms/step - loss: 0.2490 - accuracy: 0.8982 - val_loss: 0.1866 - val_accuracy: 0.9178\n",
            "Epoch 38/100\n",
            "32/32 [==============================] - 0s 2ms/step - loss: 0.2516 - accuracy: 0.8973 - val_loss: 0.1942 - val_accuracy: 0.9178\n",
            "Epoch 39/100\n",
            "32/32 [==============================] - 0s 3ms/step - loss: 0.2476 - accuracy: 0.9002 - val_loss: 0.1873 - val_accuracy: 0.9224\n",
            "Epoch 40/100\n",
            "32/32 [==============================] - 0s 2ms/step - loss: 0.2461 - accuracy: 0.9061 - val_loss: 0.2133 - val_accuracy: 0.9178\n",
            "Epoch 41/100\n",
            "32/32 [==============================] - 0s 2ms/step - loss: 0.2505 - accuracy: 0.8973 - val_loss: 0.1882 - val_accuracy: 0.9224\n",
            "Epoch 42/100\n",
            "32/32 [==============================] - 0s 2ms/step - loss: 0.2476 - accuracy: 0.9090 - val_loss: 0.2006 - val_accuracy: 0.9132\n",
            "Epoch 43/100\n",
            "32/32 [==============================] - 0s 2ms/step - loss: 0.2482 - accuracy: 0.9012 - val_loss: 0.1917 - val_accuracy: 0.9087\n",
            "Epoch 44/100\n",
            "32/32 [==============================] - 0s 2ms/step - loss: 0.2461 - accuracy: 0.8973 - val_loss: 0.1859 - val_accuracy: 0.9132\n",
            "Epoch 45/100\n",
            "32/32 [==============================] - 0s 3ms/step - loss: 0.2468 - accuracy: 0.8963 - val_loss: 0.1860 - val_accuracy: 0.9178\n",
            "Epoch 46/100\n",
            "32/32 [==============================] - 0s 3ms/step - loss: 0.2498 - accuracy: 0.8973 - val_loss: 0.1861 - val_accuracy: 0.9178\n",
            "Epoch 47/100\n",
            "32/32 [==============================] - 0s 2ms/step - loss: 0.2490 - accuracy: 0.9061 - val_loss: 0.1875 - val_accuracy: 0.9224\n",
            "Epoch 48/100\n",
            "32/32 [==============================] - 0s 2ms/step - loss: 0.2469 - accuracy: 0.9031 - val_loss: 0.1994 - val_accuracy: 0.9178\n",
            "Epoch 49/100\n",
            "32/32 [==============================] - 0s 2ms/step - loss: 0.2516 - accuracy: 0.9051 - val_loss: 0.1876 - val_accuracy: 0.9178\n",
            "Epoch 50/100\n",
            "32/32 [==============================] - 0s 2ms/step - loss: 0.2472 - accuracy: 0.8953 - val_loss: 0.1859 - val_accuracy: 0.9224\n",
            "Epoch 51/100\n",
            "32/32 [==============================] - 0s 2ms/step - loss: 0.2538 - accuracy: 0.8973 - val_loss: 0.1889 - val_accuracy: 0.9178\n",
            "Epoch 52/100\n",
            "32/32 [==============================] - 0s 2ms/step - loss: 0.2456 - accuracy: 0.9100 - val_loss: 0.1897 - val_accuracy: 0.9132\n",
            "Epoch 53/100\n",
            "32/32 [==============================] - 0s 2ms/step - loss: 0.2451 - accuracy: 0.8973 - val_loss: 0.1967 - val_accuracy: 0.9178\n",
            "Epoch 54/100\n",
            "32/32 [==============================] - 0s 2ms/step - loss: 0.2514 - accuracy: 0.8943 - val_loss: 0.2097 - val_accuracy: 0.9178\n",
            "Epoch 55/100\n",
            "32/32 [==============================] - 0s 2ms/step - loss: 0.2479 - accuracy: 0.8973 - val_loss: 0.1984 - val_accuracy: 0.9178\n",
            "Epoch 56/100\n",
            "32/32 [==============================] - 0s 2ms/step - loss: 0.2471 - accuracy: 0.8963 - val_loss: 0.1997 - val_accuracy: 0.9178\n",
            "Epoch 57/100\n",
            "32/32 [==============================] - 0s 2ms/step - loss: 0.2471 - accuracy: 0.9002 - val_loss: 0.1884 - val_accuracy: 0.9178\n",
            "Epoch 58/100\n",
            "32/32 [==============================] - 0s 2ms/step - loss: 0.2469 - accuracy: 0.8992 - val_loss: 0.1983 - val_accuracy: 0.9178\n",
            "Epoch 59/100\n",
            "32/32 [==============================] - 0s 2ms/step - loss: 0.2459 - accuracy: 0.8982 - val_loss: 0.1969 - val_accuracy: 0.9178\n",
            "Epoch 60/100\n",
            "32/32 [==============================] - 0s 2ms/step - loss: 0.2477 - accuracy: 0.9002 - val_loss: 0.1897 - val_accuracy: 0.9178\n",
            "Epoch 61/100\n",
            "32/32 [==============================] - 0s 2ms/step - loss: 0.2443 - accuracy: 0.9012 - val_loss: 0.2077 - val_accuracy: 0.9178\n",
            "Epoch 62/100\n",
            "32/32 [==============================] - 0s 2ms/step - loss: 0.2484 - accuracy: 0.8992 - val_loss: 0.2001 - val_accuracy: 0.9178\n",
            "Epoch 63/100\n",
            "32/32 [==============================] - 0s 3ms/step - loss: 0.2460 - accuracy: 0.9070 - val_loss: 0.1909 - val_accuracy: 0.9087\n",
            "Epoch 64/100\n",
            "32/32 [==============================] - 0s 2ms/step - loss: 0.2489 - accuracy: 0.8992 - val_loss: 0.2023 - val_accuracy: 0.9132\n",
            "Epoch 65/100\n",
            "32/32 [==============================] - 0s 2ms/step - loss: 0.2447 - accuracy: 0.8933 - val_loss: 0.2055 - val_accuracy: 0.9132\n",
            "Epoch 66/100\n",
            "32/32 [==============================] - 0s 2ms/step - loss: 0.2422 - accuracy: 0.9080 - val_loss: 0.1847 - val_accuracy: 0.9178\n",
            "Epoch 67/100\n",
            "32/32 [==============================] - 0s 2ms/step - loss: 0.2462 - accuracy: 0.8992 - val_loss: 0.1938 - val_accuracy: 0.9178\n",
            "Epoch 68/100\n",
            "32/32 [==============================] - 0s 2ms/step - loss: 0.2462 - accuracy: 0.8973 - val_loss: 0.2080 - val_accuracy: 0.9178\n",
            "Epoch 69/100\n",
            "32/32 [==============================] - 0s 2ms/step - loss: 0.2424 - accuracy: 0.9051 - val_loss: 0.1991 - val_accuracy: 0.9224\n",
            "Epoch 70/100\n",
            "32/32 [==============================] - 0s 3ms/step - loss: 0.2435 - accuracy: 0.9051 - val_loss: 0.1852 - val_accuracy: 0.9087\n",
            "Epoch 71/100\n",
            "32/32 [==============================] - 0s 2ms/step - loss: 0.2448 - accuracy: 0.8992 - val_loss: 0.1864 - val_accuracy: 0.9178\n",
            "Epoch 72/100\n",
            "32/32 [==============================] - 0s 3ms/step - loss: 0.2471 - accuracy: 0.8992 - val_loss: 0.1939 - val_accuracy: 0.9132\n",
            "Epoch 73/100\n",
            "32/32 [==============================] - 0s 2ms/step - loss: 0.2434 - accuracy: 0.9022 - val_loss: 0.1848 - val_accuracy: 0.9178\n",
            "Epoch 74/100\n",
            "32/32 [==============================] - 0s 2ms/step - loss: 0.2431 - accuracy: 0.9022 - val_loss: 0.2094 - val_accuracy: 0.9178\n",
            "Epoch 75/100\n",
            "32/32 [==============================] - 0s 2ms/step - loss: 0.2462 - accuracy: 0.9022 - val_loss: 0.1929 - val_accuracy: 0.9132\n",
            "Epoch 76/100\n",
            "32/32 [==============================] - 0s 2ms/step - loss: 0.2431 - accuracy: 0.9012 - val_loss: 0.1933 - val_accuracy: 0.9178\n",
            "Epoch 77/100\n",
            "32/32 [==============================] - 0s 2ms/step - loss: 0.2423 - accuracy: 0.9012 - val_loss: 0.1939 - val_accuracy: 0.9178\n",
            "Epoch 78/100\n",
            "32/32 [==============================] - 0s 3ms/step - loss: 0.2407 - accuracy: 0.9041 - val_loss: 0.2476 - val_accuracy: 0.8995\n",
            "Epoch 79/100\n",
            "32/32 [==============================] - 0s 2ms/step - loss: 0.2480 - accuracy: 0.8992 - val_loss: 0.1934 - val_accuracy: 0.9178\n",
            "Epoch 80/100\n",
            "32/32 [==============================] - 0s 2ms/step - loss: 0.2428 - accuracy: 0.9002 - val_loss: 0.1904 - val_accuracy: 0.9041\n",
            "Epoch 81/100\n",
            "32/32 [==============================] - 0s 2ms/step - loss: 0.2436 - accuracy: 0.9022 - val_loss: 0.1857 - val_accuracy: 0.9132\n",
            "Epoch 82/100\n",
            "32/32 [==============================] - 0s 2ms/step - loss: 0.2439 - accuracy: 0.9022 - val_loss: 0.1999 - val_accuracy: 0.9178\n",
            "Epoch 83/100\n",
            "32/32 [==============================] - 0s 3ms/step - loss: 0.2438 - accuracy: 0.8982 - val_loss: 0.1845 - val_accuracy: 0.9087\n",
            "Epoch 84/100\n",
            "32/32 [==============================] - 0s 2ms/step - loss: 0.2415 - accuracy: 0.8943 - val_loss: 0.2060 - val_accuracy: 0.9132\n",
            "Epoch 85/100\n",
            "32/32 [==============================] - 0s 2ms/step - loss: 0.2413 - accuracy: 0.9012 - val_loss: 0.1858 - val_accuracy: 0.9178\n",
            "Epoch 86/100\n",
            "32/32 [==============================] - 0s 2ms/step - loss: 0.2434 - accuracy: 0.9022 - val_loss: 0.1854 - val_accuracy: 0.9087\n",
            "Epoch 87/100\n",
            "32/32 [==============================] - 0s 2ms/step - loss: 0.2414 - accuracy: 0.9080 - val_loss: 0.1846 - val_accuracy: 0.9087\n",
            "Epoch 88/100\n",
            "32/32 [==============================] - 0s 2ms/step - loss: 0.2434 - accuracy: 0.9080 - val_loss: 0.2028 - val_accuracy: 0.9132\n",
            "Epoch 89/100\n",
            "32/32 [==============================] - 0s 2ms/step - loss: 0.2423 - accuracy: 0.9031 - val_loss: 0.2243 - val_accuracy: 0.9224\n",
            "Epoch 90/100\n",
            "32/32 [==============================] - 0s 2ms/step - loss: 0.2398 - accuracy: 0.9051 - val_loss: 0.1844 - val_accuracy: 0.9087\n",
            "Epoch 91/100\n",
            "32/32 [==============================] - 0s 3ms/step - loss: 0.2436 - accuracy: 0.9061 - val_loss: 0.2008 - val_accuracy: 0.9178\n",
            "Epoch 92/100\n",
            "32/32 [==============================] - 0s 3ms/step - loss: 0.2422 - accuracy: 0.9031 - val_loss: 0.2031 - val_accuracy: 0.9132\n",
            "Epoch 93/100\n",
            "32/32 [==============================] - 0s 2ms/step - loss: 0.2431 - accuracy: 0.9022 - val_loss: 0.1994 - val_accuracy: 0.9178\n",
            "Epoch 94/100\n",
            "32/32 [==============================] - 0s 2ms/step - loss: 0.2426 - accuracy: 0.8973 - val_loss: 0.1924 - val_accuracy: 0.9178\n",
            "Epoch 95/100\n",
            "32/32 [==============================] - 0s 3ms/step - loss: 0.2426 - accuracy: 0.9051 - val_loss: 0.1954 - val_accuracy: 0.9224\n",
            "Epoch 96/100\n",
            "32/32 [==============================] - 0s 2ms/step - loss: 0.2444 - accuracy: 0.9002 - val_loss: 0.1837 - val_accuracy: 0.9132\n",
            "Epoch 97/100\n",
            "32/32 [==============================] - 0s 2ms/step - loss: 0.2452 - accuracy: 0.8963 - val_loss: 0.1950 - val_accuracy: 0.9178\n",
            "Epoch 98/100\n",
            "32/32 [==============================] - 0s 3ms/step - loss: 0.2447 - accuracy: 0.9031 - val_loss: 0.1923 - val_accuracy: 0.9178\n",
            "Epoch 99/100\n",
            "32/32 [==============================] - 0s 2ms/step - loss: 0.2423 - accuracy: 0.9031 - val_loss: 0.1857 - val_accuracy: 0.9132\n",
            "Epoch 100/100\n",
            "32/32 [==============================] - 0s 2ms/step - loss: 0.2441 - accuracy: 0.9051 - val_loss: 0.1977 - val_accuracy: 0.9224\n"
          ],
          "name": "stdout"
        }
      ]
    },
    {
      "cell_type": "code",
      "metadata": {
        "colab": {
          "base_uri": "https://localhost:8080/",
          "height": 295
        },
        "id": "UE8_WdM_C4I5",
        "outputId": "88cb9584-d7a0-45f0-ddb3-09798cad7166"
      },
      "source": [
        "plt.plot(hist.history['loss'])\n",
        "plt.plot(hist.history['val_loss'])\n",
        "plt.title('Model loss')\n",
        "plt.ylabel('Loss')\n",
        "plt.xlabel('Epoch')\n",
        "plt.legend(['Train', 'Val'], loc='upper right')\n",
        "plt.show()"
      ],
      "execution_count": 37,
      "outputs": [
        {
          "output_type": "display_data",
          "data": {
            "image/png": "[encoded data removed]",
            "text/plain": [
              "<Figure size 432x288 with 1 Axes>"
            ]
          },
          "metadata": {
            "tags": [],
            "needs_background": "light"
          }
        }
      ]
    },
    {
      "cell_type": "code",
      "metadata": {
        "colab": {
          "base_uri": "https://localhost:8080/",
          "height": 295
        },
        "id": "7bGMEEjcDmz0",
        "outputId": "cd2bb3f8-3544-4bd2-c185-b9a92b67ce77"
      },
      "source": [
        "plt.plot(hist.history['accuracy'])\n",
        "plt.plot(hist.history['val_accuracy'])\n",
        "plt.title('Model accuracy')\n",
        "plt.ylabel('Accuracy')\n",
        "plt.xlabel('Epoch')\n",
        "plt.legend(['Train', 'Val'], loc='lower right')\n",
        "plt.show()"
      ],
      "execution_count": 40,
      "outputs": [
        {
          "output_type": "display_data",
          "data": {
            "image/png": "[encoded data removed]",
            "text/plain": [
              "<Figure size 432x288 with 1 Axes>"
            ]
          },
          "metadata": {
            "tags": [],
            "needs_background": "light"
          }
        }
      ]
    },
    {
      "cell_type": "code",
      "metadata": {
        "id": "Sxa04ZCFD134"
      },
      "source": [
        "model_3 = Sequential([\n",
        "    Dense(1000, activation='relu', kernel_regularizer=regularizers.l2(0.01), input_shape=(10,)),\n",
        "    Dropout(0.3),\n",
        "    Dense(1000, activation='relu', kernel_regularizer=regularizers.l2(0.01)),\n",
        "    Dropout(0.3),\n",
        "    Dense(1000, activation='relu', kernel_regularizer=regularizers.l2(0.01)),\n",
        "    Dropout(0.3),\n",
        "    Dense(1000, activation='relu', kernel_regularizer=regularizers.l2(0.01)),\n",
        "    Dropout(0.3),\n",
        "    Dense(1, activation='sigmoid', kernel_regularizer=regularizers.l2(0.01)),\n",
        "])"
      ],
      "execution_count": 42,
      "outputs": []
    },
    {
      "cell_type": "code",
      "metadata": {
        "colab": {
          "base_uri": "https://localhost:8080/"
        },
        "id": "NqGgpAY6ERJY",
        "outputId": "5807430a-5c48-46e1-ae0f-b58ba80976db"
      },
      "source": [
        "\n",
        "model_3.compile(optimizer='adam',\n",
        "              loss='binary_crossentropy',\n",
        "              metrics=['accuracy'])\n",
        "hist_3 = model_3.fit(X_train, Y_train,\n",
        "          batch_size=32, epochs=100,\n",
        "          validation_data=(X_val, Y_val))"
      ],
      "execution_count": 43,
      "outputs": [
        {
          "output_type": "stream",
          "text": [
            "Epoch 1/100\n",
            "32/32 [==============================] - 2s 38ms/step - loss: 21.1209 - accuracy: 0.5968 - val_loss: 3.8876 - val_accuracy: 0.7443\n",
            "Epoch 2/100\n",
            "32/32 [==============================] - 1s 32ms/step - loss: 2.5040 - accuracy: 0.8001 - val_loss: 0.5975 - val_accuracy: 0.9041\n",
            "Epoch 3/100\n",
            "32/32 [==============================] - 1s 31ms/step - loss: 0.5941 - accuracy: 0.8566 - val_loss: 0.4515 - val_accuracy: 0.9087\n",
            "Epoch 4/100\n",
            "32/32 [==============================] - 1s 32ms/step - loss: 0.5242 - accuracy: 0.8558 - val_loss: 0.4364 - val_accuracy: 0.8995\n",
            "Epoch 5/100\n",
            "32/32 [==============================] - 1s 32ms/step - loss: 0.5052 - accuracy: 0.8611 - val_loss: 0.4229 - val_accuracy: 0.8995\n",
            "Epoch 6/100\n",
            "32/32 [==============================] - 1s 32ms/step - loss: 0.4805 - accuracy: 0.8864 - val_loss: 0.4085 - val_accuracy: 0.9178\n",
            "Epoch 7/100\n",
            "32/32 [==============================] - 1s 31ms/step - loss: 0.5336 - accuracy: 0.8386 - val_loss: 0.4078 - val_accuracy: 0.9178\n",
            "Epoch 8/100\n",
            "32/32 [==============================] - 1s 31ms/step - loss: 0.4840 - accuracy: 0.8625 - val_loss: 0.4520 - val_accuracy: 0.8630\n",
            "Epoch 9/100\n",
            "32/32 [==============================] - 1s 31ms/step - loss: 0.5179 - accuracy: 0.8529 - val_loss: 0.4326 - val_accuracy: 0.8858\n",
            "Epoch 10/100\n",
            "32/32 [==============================] - 1s 32ms/step - loss: 0.5207 - accuracy: 0.8448 - val_loss: 0.3996 - val_accuracy: 0.9132\n",
            "Epoch 11/100\n",
            "32/32 [==============================] - 1s 31ms/step - loss: 0.4567 - accuracy: 0.8765 - val_loss: 0.4146 - val_accuracy: 0.8858\n",
            "Epoch 12/100\n",
            "32/32 [==============================] - 1s 31ms/step - loss: 0.4441 - accuracy: 0.8796 - val_loss: 0.3872 - val_accuracy: 0.9132\n",
            "Epoch 13/100\n",
            "32/32 [==============================] - 1s 32ms/step - loss: 0.4468 - accuracy: 0.8775 - val_loss: 0.3950 - val_accuracy: 0.9269\n",
            "Epoch 14/100\n",
            "32/32 [==============================] - 1s 31ms/step - loss: 0.4698 - accuracy: 0.8448 - val_loss: 0.3738 - val_accuracy: 0.9178\n",
            "Epoch 15/100\n",
            "32/32 [==============================] - 1s 32ms/step - loss: 0.4783 - accuracy: 0.8774 - val_loss: 0.3876 - val_accuracy: 0.9132\n",
            "Epoch 16/100\n",
            "32/32 [==============================] - 1s 31ms/step - loss: 0.4640 - accuracy: 0.8708 - val_loss: 0.3774 - val_accuracy: 0.9224\n",
            "Epoch 17/100\n",
            "32/32 [==============================] - 1s 32ms/step - loss: 0.4825 - accuracy: 0.8639 - val_loss: 0.3935 - val_accuracy: 0.9132\n",
            "Epoch 18/100\n",
            "32/32 [==============================] - 1s 32ms/step - loss: 0.4529 - accuracy: 0.8766 - val_loss: 0.3868 - val_accuracy: 0.9087\n",
            "Epoch 19/100\n",
            "32/32 [==============================] - 1s 32ms/step - loss: 0.4603 - accuracy: 0.8770 - val_loss: 0.4176 - val_accuracy: 0.8950\n",
            "Epoch 20/100\n",
            "32/32 [==============================] - 1s 31ms/step - loss: 0.4522 - accuracy: 0.8858 - val_loss: 0.4102 - val_accuracy: 0.8995\n",
            "Epoch 21/100\n",
            "32/32 [==============================] - 1s 31ms/step - loss: 0.4892 - accuracy: 0.8463 - val_loss: 0.3747 - val_accuracy: 0.9224\n",
            "Epoch 22/100\n",
            "32/32 [==============================] - 1s 32ms/step - loss: 0.4511 - accuracy: 0.8906 - val_loss: 0.4022 - val_accuracy: 0.9087\n",
            "Epoch 23/100\n",
            "32/32 [==============================] - 1s 31ms/step - loss: 0.4595 - accuracy: 0.8698 - val_loss: 0.3860 - val_accuracy: 0.9132\n",
            "Epoch 24/100\n",
            "32/32 [==============================] - 1s 33ms/step - loss: 0.4687 - accuracy: 0.8695 - val_loss: 0.3653 - val_accuracy: 0.9269\n",
            "Epoch 25/100\n",
            "32/32 [==============================] - 1s 32ms/step - loss: 0.4238 - accuracy: 0.8916 - val_loss: 0.3871 - val_accuracy: 0.9087\n",
            "Epoch 26/100\n",
            "32/32 [==============================] - 1s 32ms/step - loss: 0.4560 - accuracy: 0.8726 - val_loss: 0.3733 - val_accuracy: 0.9269\n",
            "Epoch 27/100\n",
            "32/32 [==============================] - 1s 32ms/step - loss: 0.4884 - accuracy: 0.8502 - val_loss: 0.4199 - val_accuracy: 0.8950\n",
            "Epoch 28/100\n",
            "32/32 [==============================] - 1s 32ms/step - loss: 0.4338 - accuracy: 0.8969 - val_loss: 0.3679 - val_accuracy: 0.9178\n",
            "Epoch 29/100\n",
            "32/32 [==============================] - 1s 32ms/step - loss: 0.4500 - accuracy: 0.8681 - val_loss: 0.3772 - val_accuracy: 0.9178\n",
            "Epoch 30/100\n",
            "32/32 [==============================] - 1s 32ms/step - loss: 0.4202 - accuracy: 0.8992 - val_loss: 0.3931 - val_accuracy: 0.9087\n",
            "Epoch 31/100\n",
            "32/32 [==============================] - 1s 32ms/step - loss: 0.4636 - accuracy: 0.8712 - val_loss: 0.3701 - val_accuracy: 0.9178\n",
            "Epoch 32/100\n",
            "32/32 [==============================] - 1s 31ms/step - loss: 0.4518 - accuracy: 0.8781 - val_loss: 0.3624 - val_accuracy: 0.9315\n",
            "Epoch 33/100\n",
            "32/32 [==============================] - 1s 31ms/step - loss: 0.4372 - accuracy: 0.8868 - val_loss: 0.3722 - val_accuracy: 0.9178\n",
            "Epoch 34/100\n",
            "32/32 [==============================] - 1s 32ms/step - loss: 0.4609 - accuracy: 0.8807 - val_loss: 0.3773 - val_accuracy: 0.9132\n",
            "Epoch 35/100\n",
            "32/32 [==============================] - 1s 31ms/step - loss: 0.4492 - accuracy: 0.8853 - val_loss: 0.3802 - val_accuracy: 0.9132\n",
            "Epoch 36/100\n",
            "32/32 [==============================] - 1s 32ms/step - loss: 0.4792 - accuracy: 0.8524 - val_loss: 0.3733 - val_accuracy: 0.9178\n",
            "Epoch 37/100\n",
            "32/32 [==============================] - 1s 32ms/step - loss: 0.4594 - accuracy: 0.8744 - val_loss: 0.3743 - val_accuracy: 0.9087\n",
            "Epoch 38/100\n",
            "32/32 [==============================] - 1s 31ms/step - loss: 0.4628 - accuracy: 0.8770 - val_loss: 0.3723 - val_accuracy: 0.9041\n",
            "Epoch 39/100\n",
            "32/32 [==============================] - 1s 31ms/step - loss: 0.4628 - accuracy: 0.8565 - val_loss: 0.4026 - val_accuracy: 0.9041\n",
            "Epoch 40/100\n",
            "32/32 [==============================] - 1s 32ms/step - loss: 0.4673 - accuracy: 0.8735 - val_loss: 0.4030 - val_accuracy: 0.9087\n",
            "Epoch 41/100\n",
            "32/32 [==============================] - 1s 32ms/step - loss: 0.4868 - accuracy: 0.8767 - val_loss: 0.3794 - val_accuracy: 0.9041\n",
            "Epoch 42/100\n",
            "32/32 [==============================] - 1s 32ms/step - loss: 0.4612 - accuracy: 0.8781 - val_loss: 0.3985 - val_accuracy: 0.9087\n",
            "Epoch 43/100\n",
            "32/32 [==============================] - 1s 32ms/step - loss: 0.4647 - accuracy: 0.8639 - val_loss: 0.3665 - val_accuracy: 0.9178\n",
            "Epoch 44/100\n",
            "32/32 [==============================] - 1s 32ms/step - loss: 0.4357 - accuracy: 0.8823 - val_loss: 0.3664 - val_accuracy: 0.9087\n",
            "Epoch 45/100\n",
            "32/32 [==============================] - 1s 32ms/step - loss: 0.4831 - accuracy: 0.8490 - val_loss: 0.3920 - val_accuracy: 0.9041\n",
            "Epoch 46/100\n",
            "32/32 [==============================] - 1s 32ms/step - loss: 0.4679 - accuracy: 0.8715 - val_loss: 0.3696 - val_accuracy: 0.9087\n",
            "Epoch 47/100\n",
            "32/32 [==============================] - 1s 32ms/step - loss: 0.4671 - accuracy: 0.8740 - val_loss: 0.3664 - val_accuracy: 0.9315\n",
            "Epoch 48/100\n",
            "32/32 [==============================] - 1s 32ms/step - loss: 0.4175 - accuracy: 0.8919 - val_loss: 0.3949 - val_accuracy: 0.9087\n",
            "Epoch 49/100\n",
            "32/32 [==============================] - 1s 32ms/step - loss: 0.4776 - accuracy: 0.8650 - val_loss: 0.3786 - val_accuracy: 0.9132\n",
            "Epoch 50/100\n",
            "32/32 [==============================] - 1s 32ms/step - loss: 0.4268 - accuracy: 0.8965 - val_loss: 0.3758 - val_accuracy: 0.9132\n",
            "Epoch 51/100\n",
            "32/32 [==============================] - 1s 31ms/step - loss: 0.4506 - accuracy: 0.8740 - val_loss: 0.3748 - val_accuracy: 0.9178\n",
            "Epoch 52/100\n",
            "32/32 [==============================] - 1s 32ms/step - loss: 0.4656 - accuracy: 0.8813 - val_loss: 0.3921 - val_accuracy: 0.9132\n",
            "Epoch 53/100\n",
            "32/32 [==============================] - 1s 33ms/step - loss: 0.4340 - accuracy: 0.8914 - val_loss: 0.4027 - val_accuracy: 0.9087\n",
            "Epoch 54/100\n",
            "32/32 [==============================] - 1s 32ms/step - loss: 0.4446 - accuracy: 0.8732 - val_loss: 0.3601 - val_accuracy: 0.9269\n",
            "Epoch 55/100\n",
            "32/32 [==============================] - 1s 32ms/step - loss: 0.4529 - accuracy: 0.8843 - val_loss: 0.3871 - val_accuracy: 0.9132\n",
            "Epoch 56/100\n",
            "32/32 [==============================] - 1s 31ms/step - loss: 0.4773 - accuracy: 0.8602 - val_loss: 0.3751 - val_accuracy: 0.9178\n",
            "Epoch 57/100\n",
            "32/32 [==============================] - 1s 32ms/step - loss: 0.4683 - accuracy: 0.8681 - val_loss: 0.3588 - val_accuracy: 0.9224\n",
            "Epoch 58/100\n",
            "32/32 [==============================] - 1s 32ms/step - loss: 0.4460 - accuracy: 0.8886 - val_loss: 0.3602 - val_accuracy: 0.9315\n",
            "Epoch 59/100\n",
            "32/32 [==============================] - 1s 31ms/step - loss: 0.4449 - accuracy: 0.8770 - val_loss: 0.3751 - val_accuracy: 0.9041\n",
            "Epoch 60/100\n",
            "32/32 [==============================] - 1s 32ms/step - loss: 0.4630 - accuracy: 0.8748 - val_loss: 0.3620 - val_accuracy: 0.9132\n",
            "Epoch 61/100\n",
            "32/32 [==============================] - 1s 32ms/step - loss: 0.4344 - accuracy: 0.8914 - val_loss: 0.3674 - val_accuracy: 0.9178\n",
            "Epoch 62/100\n",
            "32/32 [==============================] - 1s 31ms/step - loss: 0.4384 - accuracy: 0.8890 - val_loss: 0.4111 - val_accuracy: 0.8995\n",
            "Epoch 63/100\n",
            "32/32 [==============================] - 1s 31ms/step - loss: 0.4503 - accuracy: 0.8719 - val_loss: 0.3695 - val_accuracy: 0.9178\n",
            "Epoch 64/100\n",
            "32/32 [==============================] - 1s 32ms/step - loss: 0.4245 - accuracy: 0.8930 - val_loss: 0.4127 - val_accuracy: 0.8950\n",
            "Epoch 65/100\n",
            "32/32 [==============================] - 1s 32ms/step - loss: 0.4589 - accuracy: 0.8816 - val_loss: 0.3633 - val_accuracy: 0.9178\n",
            "Epoch 66/100\n",
            "32/32 [==============================] - 1s 32ms/step - loss: 0.4594 - accuracy: 0.8692 - val_loss: 0.3671 - val_accuracy: 0.9224\n",
            "Epoch 67/100\n",
            "32/32 [==============================] - 1s 31ms/step - loss: 0.4768 - accuracy: 0.8539 - val_loss: 0.3640 - val_accuracy: 0.9178\n",
            "Epoch 68/100\n",
            "32/32 [==============================] - 1s 33ms/step - loss: 0.4373 - accuracy: 0.8947 - val_loss: 0.3664 - val_accuracy: 0.9178\n",
            "Epoch 69/100\n",
            "32/32 [==============================] - 1s 32ms/step - loss: 0.4596 - accuracy: 0.8795 - val_loss: 0.3874 - val_accuracy: 0.9178\n",
            "Epoch 70/100\n",
            "32/32 [==============================] - 1s 32ms/step - loss: 0.4374 - accuracy: 0.8879 - val_loss: 0.3803 - val_accuracy: 0.9132\n",
            "Epoch 71/100\n",
            "32/32 [==============================] - 1s 32ms/step - loss: 0.4380 - accuracy: 0.8714 - val_loss: 0.3604 - val_accuracy: 0.9224\n",
            "Epoch 72/100\n",
            "32/32 [==============================] - 1s 32ms/step - loss: 0.4389 - accuracy: 0.8723 - val_loss: 0.3675 - val_accuracy: 0.9269\n",
            "Epoch 73/100\n",
            "32/32 [==============================] - 1s 32ms/step - loss: 0.4310 - accuracy: 0.8903 - val_loss: 0.3607 - val_accuracy: 0.9132\n",
            "Epoch 74/100\n",
            "32/32 [==============================] - 1s 32ms/step - loss: 0.4194 - accuracy: 0.8992 - val_loss: 0.3609 - val_accuracy: 0.9315\n",
            "Epoch 75/100\n",
            "32/32 [==============================] - 1s 32ms/step - loss: 0.4525 - accuracy: 0.8674 - val_loss: 0.4205 - val_accuracy: 0.8950\n",
            "Epoch 76/100\n",
            "32/32 [==============================] - 1s 31ms/step - loss: 0.4215 - accuracy: 0.8967 - val_loss: 0.3723 - val_accuracy: 0.9132\n",
            "Epoch 77/100\n",
            "32/32 [==============================] - 1s 32ms/step - loss: 0.4891 - accuracy: 0.8658 - val_loss: 0.3705 - val_accuracy: 0.9178\n",
            "Epoch 78/100\n",
            "32/32 [==============================] - 1s 32ms/step - loss: 0.4389 - accuracy: 0.8693 - val_loss: 0.3649 - val_accuracy: 0.9132\n",
            "Epoch 79/100\n",
            "32/32 [==============================] - 1s 32ms/step - loss: 0.4604 - accuracy: 0.8712 - val_loss: 0.4333 - val_accuracy: 0.8858\n",
            "Epoch 80/100\n",
            "32/32 [==============================] - 1s 33ms/step - loss: 0.4235 - accuracy: 0.8991 - val_loss: 0.3721 - val_accuracy: 0.9178\n",
            "Epoch 81/100\n",
            "32/32 [==============================] - 1s 32ms/step - loss: 0.4513 - accuracy: 0.8605 - val_loss: 0.3668 - val_accuracy: 0.9132\n",
            "Epoch 82/100\n",
            "32/32 [==============================] - 1s 32ms/step - loss: 0.4836 - accuracy: 0.8629 - val_loss: 0.3653 - val_accuracy: 0.9041\n",
            "Epoch 83/100\n",
            "32/32 [==============================] - 1s 32ms/step - loss: 0.4444 - accuracy: 0.8831 - val_loss: 0.3620 - val_accuracy: 0.9315\n",
            "Epoch 84/100\n",
            "32/32 [==============================] - 1s 32ms/step - loss: 0.4375 - accuracy: 0.8818 - val_loss: 0.3727 - val_accuracy: 0.9041\n",
            "Epoch 85/100\n",
            "32/32 [==============================] - 1s 32ms/step - loss: 0.4695 - accuracy: 0.8648 - val_loss: 0.3575 - val_accuracy: 0.9178\n",
            "Epoch 86/100\n",
            "32/32 [==============================] - 1s 32ms/step - loss: 0.4555 - accuracy: 0.8722 - val_loss: 0.3630 - val_accuracy: 0.9315\n",
            "Epoch 87/100\n",
            "32/32 [==============================] - 1s 32ms/step - loss: 0.4438 - accuracy: 0.8847 - val_loss: 0.3684 - val_accuracy: 0.9269\n",
            "Epoch 88/100\n",
            "32/32 [==============================] - 1s 32ms/step - loss: 0.4552 - accuracy: 0.8784 - val_loss: 0.3956 - val_accuracy: 0.9087\n",
            "Epoch 89/100\n",
            "32/32 [==============================] - 1s 32ms/step - loss: 0.4561 - accuracy: 0.8673 - val_loss: 0.3633 - val_accuracy: 0.9224\n",
            "Epoch 90/100\n",
            "32/32 [==============================] - 1s 32ms/step - loss: 0.4528 - accuracy: 0.8796 - val_loss: 0.3711 - val_accuracy: 0.9132\n",
            "Epoch 91/100\n",
            "32/32 [==============================] - 1s 31ms/step - loss: 0.4775 - accuracy: 0.8600 - val_loss: 0.4196 - val_accuracy: 0.8950\n",
            "Epoch 92/100\n",
            "32/32 [==============================] - 1s 31ms/step - loss: 0.4341 - accuracy: 0.8885 - val_loss: 0.4045 - val_accuracy: 0.8995\n",
            "Epoch 93/100\n",
            "32/32 [==============================] - 1s 32ms/step - loss: 0.4714 - accuracy: 0.8740 - val_loss: 0.3765 - val_accuracy: 0.8995\n",
            "Epoch 94/100\n",
            "32/32 [==============================] - 1s 32ms/step - loss: 0.4382 - accuracy: 0.8838 - val_loss: 0.3597 - val_accuracy: 0.9269\n",
            "Epoch 95/100\n",
            "32/32 [==============================] - 1s 32ms/step - loss: 0.4366 - accuracy: 0.8776 - val_loss: 0.3726 - val_accuracy: 0.8995\n",
            "Epoch 96/100\n",
            "32/32 [==============================] - 1s 32ms/step - loss: 0.4339 - accuracy: 0.8785 - val_loss: 0.3618 - val_accuracy: 0.9132\n",
            "Epoch 97/100\n",
            "32/32 [==============================] - 1s 32ms/step - loss: 0.4786 - accuracy: 0.8764 - val_loss: 0.4335 - val_accuracy: 0.8813\n",
            "Epoch 98/100\n",
            "32/32 [==============================] - 1s 33ms/step - loss: 0.4328 - accuracy: 0.8967 - val_loss: 0.3891 - val_accuracy: 0.9178\n",
            "Epoch 99/100\n",
            "32/32 [==============================] - 1s 32ms/step - loss: 0.4055 - accuracy: 0.9108 - val_loss: 0.3777 - val_accuracy: 0.9041\n",
            "Epoch 100/100\n",
            "32/32 [==============================] - 1s 31ms/step - loss: 0.4616 - accuracy: 0.8761 - val_loss: 0.3969 - val_accuracy: 0.9087\n"
          ],
          "name": "stdout"
        }
      ]
    },
    {
      "cell_type": "code",
      "metadata": {
        "colab": {
          "base_uri": "https://localhost:8080/",
          "height": 295
        },
        "id": "w7s2IwFsEXR5",
        "outputId": "afa53889-f42a-4db3-b5d0-e7f3f11ea26a"
      },
      "source": [
        "\n",
        "plt.plot(hist_3.history['loss'])\n",
        "plt.plot(hist_3.history['val_loss'])\n",
        "plt.title('Model loss')\n",
        "plt.ylabel('Loss')\n",
        "plt.xlabel('Epoch')\n",
        "plt.legend(['Train', 'Val'], loc='lower left')\n",
        "plt.ylim(top=2, bottom=0)\n",
        "plt.show()"
      ],
      "execution_count": 44,
      "outputs": [
        {
          "output_type": "display_data",
          "data": {
            "image/png": "[encoded data removed]",
            "text/plain": [
              "<Figure size 432x288 with 1 Axes>"
            ]
          },
          "metadata": {
            "tags": [],
            "needs_background": "light"
          }
        }
      ]
    },
    {
      "cell_type": "code",
      "metadata": {
        "colab": {
          "base_uri": "https://localhost:8080/",
          "height": 295
        },
        "id": "lo5jNuQUE4wP",
        "outputId": "d5d28243-95e1-4f1a-d998-ea289c92fbcd"
      },
      "source": [
        "\n",
        "plt.plot(hist_3.history['accuracy'])\n",
        "plt.plot(hist_3.history['val_accuracy'])\n",
        "plt.title('Model loss')\n",
        "plt.ylabel('Accuracy')\n",
        "plt.xlabel('Epoch')\n",
        "plt.legend(['Train', 'Val'], loc='upper right')\n",
        "plt.ylim(top=2, bottom=0)\n",
        "plt.show()"
      ],
      "execution_count": 46,
      "outputs": [
        {
          "output_type": "display_data",
          "data": {
            "image/png": "[encoded data removed]",
            "text/plain": [
              "<Figure size 432x288 with 1 Axes>"
            ]
          },
          "metadata": {
            "tags": [],
            "needs_background": "light"
          }
        }
      ]
    },
    {
      "cell_type": "code",
      "metadata": {
        "id": "DvzLo5PDE-xc"
      },
      "source": [
        ""
      ],
      "execution_count": null,
      "outputs": []
    }
  ]
}